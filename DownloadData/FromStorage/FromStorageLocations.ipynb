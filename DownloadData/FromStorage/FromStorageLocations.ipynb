{
 "cells": [
  {
   "cell_type": "markdown",
   "id": "8a98af6c",
   "metadata": {},
   "source": [
    "# A notebook to generate a CSV template with info from samples in location(s)"
   ]
  },
  {
   "cell_type": "markdown",
   "id": "63d93209",
   "metadata": {},
   "source": [
    "Give the output file name (with path)"
   ]
  },
  {
   "cell_type": "code",
   "execution_count": 2,
   "id": "a0ceee32",
   "metadata": {},
   "outputs": [],
   "source": [
    "filename=\"/Users/pierrespc/Desktop/2021-11-19_PETROUStoLumila.tsv\"\n"
   ]
  },
  {
   "cell_type": "markdown",
   "id": "dd03927a",
   "metadata": {},
   "source": [
    "## Preparing the note book"
   ]
  },
  {
   "cell_type": "markdown",
   "id": "c4224ba3",
   "metadata": {},
   "source": [
    "Please enter the one-line file where your token is saved in the following cell"
   ]
  },
  {
   "cell_type": "code",
   "execution_count": 5,
   "id": "ae9b181e",
   "metadata": {},
   "outputs": [],
   "source": [
    "tokenFile=\"/Users/pierrespc/Documents/PostDocPasteur/aDNA/Import_eLAB/API_FUNCTIONALITIES/credentials/tokenELAB\"\n",
    "import os\n",
    "import json\n",
    "import requests\n",
    "import csv\n",
    "import pandas\n",
    "import numpy\n",
    "from apiclient import discovery, errors\n",
    "from httplib2 import Http\n",
    "from oauth2client import client, file, tools\n",
    "import os.path\n",
    "\n",
    "token = format(open(tokenFile,\"r\").readline().strip())\n",
    "url = \"https://elab-dev.pasteur.fr/api/v1/\"\n",
    "headers1 = {'Authorization': token, 'Accept': 'application/json','Content-Type':'application/json'}\n",
    "headers2 = {'Authorization': token, 'Accept': 'application/json'}\n",
    "\n"
   ]
  },
  {
   "cell_type": "code",
   "execution_count": 45,
   "id": "9c61a9fe",
   "metadata": {},
   "outputs": [],
   "source": [
    "storageByID={}\n",
    "r=requests.get(url+\"/storageLayers\",headers=headers1)\n",
    "stoData=r.json().get(\"data\")\n",
    "for sto in stoData:\n",
    "    storageByID[sto[\"storageLayerID\"]]={\"name\":sto[\"name\"],\"parentID\":sto[\"parentStorageLayerID\"]}\n",
    "    #print(sto[\"name\"])\n",
    "def getParentSto(ID,stoDict):\n",
    "    if stoDict[ID][\"parentID\"]==0:\n",
    "        return(stoDict[ID][\"name\"])\n",
    "    else:\n",
    "        return(getParentSto(stoDict[ID][\"parentID\"],stoDict)+\", \"+stoDict[ID][\"name\"])\n",
    "    \n",
    "    \n",
    "storage={}\n",
    "for stoID in storageByID.keys():\n",
    "    name=getParentSto(stoID,storageByID)\n",
    "    storage[name]=stoID\n",
    "    \n",
    "\n"
   ]
  },
  {
   "cell_type": "code",
   "execution_count": 46,
   "id": "1bc2e072",
   "metadata": {},
   "outputs": [
    {
     "name": "stdout",
     "output_type": "stream",
     "text": [
      "{774657: {'name': 'Nico office', 'parentID': 0}, 774658: {'name': 'In Copenhagen', 'parentID': 0}, 774659: {'name': 'Tom Gilbert Freezer', 'parentID': 0}, 774671: {'name': 'bag A1 + A2', 'parentID': 774659}, 774677: {'name': 'calculus extraction', 'parentID': 774671}, 774678: {'name': 'petrous back-up', 'parentID': 774671}, 774679: {'name': 'petrous extraction', 'parentID': 774671}, 774680: {'name': 'pulp back-up', 'parentID': 774671}, 774681: {'name': 'pulp extraction', 'parentID': 774671}, 774682: {'name': 'root back-up', 'parentID': 774671}, 774683: {'name': 'root extraction', 'parentID': 774671}, 774684: {'name': 'C group sensitive, blue box, back-up', 'parentID': 774671}, 775907: {'name': 'bag Mariano Del Papa calculus', 'parentID': 774659}, 775908: {'name': 'Mariano Del Papa calculus extraction', 'parentID': 775907}, 775909: {'name': 'already processed', 'parentID': 774671}, 774661: {'name': 'Freezer n9', 'parentID': 0}, 774674: {'name': 'Miren Drawer 2', 'parentID': 774661}, 774675: {'name': 'Blue Rack 1', 'parentID': 774674}, 774836: {'name': 'Freezer 4', 'parentID': 0}, 774837: {'name': 'drawer 1', 'parentID': 774836}, 774838: {'name': 'samplebox 1', 'parentID': 774837}, 775844: {'name': 'drawer 5', 'parentID': 774836}, 775845: {'name': 'extract box 1', 'parentID': 775844}, 775860: {'name': 'UDG-SCR libraries no... 2', 'parentID': 775844}, 774839: {'name': 'Unknown', 'parentID': 0}, 774998: {'name': 'Individual', 'parentID': 0}, 774999: {'name': 'Site', 'parentID': 0}, 775861: {'name': 'Sequencing', 'parentID': 0}, 775975: {'name': 'Hannes Freezer', 'parentID': 0}, 775976: {'name': 'bag A1 + A2', 'parentID': 775975}, 775977: {'name': 'calculus extraction', 'parentID': 775976}, 775978: {'name': 'petrous back-up', 'parentID': 775976}, 775979: {'name': 'petrous extraction', 'parentID': 775976}, 775980: {'name': 'pulp back-up', 'parentID': 775976}, 775981: {'name': 'pulp extraction', 'parentID': 775976}, 775982: {'name': 'root back-up', 'parentID': 775976}, 775983: {'name': 'root extraction', 'parentID': 775976}, 775984: {'name': 'C group sensitive, blue box, back-up', 'parentID': 775976}, 775985: {'name': 'already processed', 'parentID': 775976}, 775986: {'name': 'bag Mariano Del Papa calculus', 'parentID': 775975}, 775987: {'name': 'Mariano Del Papa calculus extraction', 'parentID': 775986}, 775988: {'name': 'bag B1 + B2', 'parentID': 775975}, 775989: {'name': 'pulp back-up', 'parentID': 775988}, 775990: {'name': 'pulp extraction', 'parentID': 775988}, 775992: {'name': 'calculus extraction', 'parentID': 775988}, 775993: {'name': 'petrous extraction', 'parentID': 775988}, 775994: {'name': 'petrous back-up', 'parentID': 775988}, 775996: {'name': 'root extraction', 'parentID': 775988}, 775997: {'name': 'root back-up', 'parentID': 775988}, 775998: {'name': 'C group sensitive, blue box, back-up', 'parentID': 775988}, 776000: {'name': 'already processed', 'parentID': 775988}, 776116: {'name': 'bag Mix batch', 'parentID': 775975}, 776117: {'name': 'mix batch del papa guraeib calculus extraction', 'parentID': 776116}, 776118: {'name': 'mix batch del papa guraeib root extraction', 'parentID': 776116}, 776119: {'name': 'mix batch monica beron calculus extraction', 'parentID': 776116}, 776120: {'name': 'mix batch monica beron pulp extraction', 'parentID': 776116}, 776121: {'name': 'mix batch monica beron root extraction', 'parentID': 776116}, 776122: {'name': 'mix batch ramiro barberena calculus extraction', 'parentID': 776116}, 776123: {'name': 'mix batch ramiro barberena pulp back-up extraction', 'parentID': 776116}, 776124: {'name': 'mix batch ramiro barberena pulp extraction', 'parentID': 776116}, 776125: {'name': 'mix batch ramiro barberena root extraction', 'parentID': 776116}, 776177: {'name': 'mix batch neme san rafael root extraction', 'parentID': 776116}, 776178: {'name': 'mix batch neme san rafael pulp extraction', 'parentID': 776116}, 776179: {'name': 'mix batch neme san rafael calculus extraction', 'parentID': 776116}, 776215: {'name': 'A1 re-sampled root apex extraction', 'parentID': 775976}, 776216: {'name': 'mix batch Peralta Malargue pulp extraction', 'parentID': 776116}, 776217: {'name': 'mix batch Peralta Malargue root extraction', 'parentID': 776116}, 776218: {'name': 'mix batch Peralta San Juan calculus extraction', 'parentID': 776116}, 776219: {'name': 'mix batch Peralta San Juan root extraction', 'parentID': 776116}, 776220: {'name': 'mix batch Peralta San Juan pulp extraction', 'parentID': 776116}, 776098: {'name': 'In Tartu', 'parentID': 0}, 776238: {'name': 'With Lumila', 'parentID': 0}}\n"
     ]
    }
   ],
   "source": [
    "# Get storage\n",
    "print(storageByID)"
   ]
  },
  {
   "cell_type": "code",
   "execution_count": 73,
   "id": "83f473c6",
   "metadata": {
    "scrolled": true
   },
   "outputs": [
    {
     "name": "stdout",
     "output_type": "stream",
     "text": [
      "get the storage where to look for samples:\n",
      "0: Nico office\n",
      "1: In Copenhagen\n",
      "2: Tom Gilbert Freezer\n",
      "3: Freezer n9\n",
      "4: Freezer 4\n",
      "5: Unknown\n",
      "6: Individual\n",
      "7: Site\n",
      "8: Sequencing\n",
      "9: Hannes Freezer\n",
      "10: In Tartu\n",
      "11: With Lumila\n",
      "['Nico office', 'In Copenhagen', 'Tom Gilbert Freezer', 'Freezer n9', 'Freezer 4', 'Unknown', 'Individual', 'Site', 'Sequencing', 'Hannes Freezer', 'In Tartu', 'With Lumila']\n",
      "what are your choice? (the number separated by <space>)11\n",
      "now we will choice the location layers within the storage\n",
      "Please be aware that we will filter using  a OR function so upper storage level just overwrite any lower filter\n",
      "{'With Lumila': {'id': 776238}}\n"
     ]
    }
   ],
   "source": [
    "\n",
    "iter=-1\n",
    "prev=\"bliblablou\"\n",
    "\n",
    "print(\"get the storage where to look for samples:\")\n",
    "listID=[]\n",
    "for sto in storageByID:\n",
    "    if storageByID[sto][\"parentID\"] == 0:\n",
    "        iter=iter+1\n",
    "        listID.append(storageByID[sto][\"name\"])        \n",
    "        print(format(iter)+\": \"+storageByID[sto][\"name\"])\n",
    "print(listID)\n",
    "StorageToReach={}\n",
    "listChoice=input(\"what are your choice? (the number separated by <space>)\").split()\n",
    "print(\"now we will choice the location layers within the storage\")\n",
    "for i in listChoice:\n",
    "    idSto=listID[int(i)]\n",
    "    ###we will go from the lower layers to the upper...\n",
    "    upperLevel=True\n",
    "    for sto in storage:\n",
    "        stoSplit=sto.split(\", \")\n",
    "        if stoSplit[0] == idSto and len(stoSplit)>1:\n",
    "            prompt=\"?\"\n",
    "            while prompt not in [\"y\",\"n\"]:\n",
    "                prompt=input(\"select layer \"+ sto+\" ?( y/n)\")\n",
    "            if prompt == \"y\":\n",
    "                upperLevel=False\n",
    "                StorageToReach[sto]={\"id\":storage[sto]}\n",
    "    if upperLevel:\n",
    "        StorageToReach[idSto]={\"id\":storage[idSto]}\n",
    "        \n",
    "            \n",
    "print(StorageToReach)\n",
    "            \n",
    "        \n",
    "\n",
    "\n",
    "\n"
   ]
  },
  {
   "cell_type": "code",
   "execution_count": 85,
   "id": "e0856747",
   "metadata": {
    "scrolled": true
   },
   "outputs": [
    {
     "data": {
      "text/html": [
       "<div>\n",
       "<style scoped>\n",
       "    .dataframe tbody tr th:only-of-type {\n",
       "        vertical-align: middle;\n",
       "    }\n",
       "\n",
       "    .dataframe tbody tr th {\n",
       "        vertical-align: top;\n",
       "    }\n",
       "\n",
       "    .dataframe thead th {\n",
       "        text-align: right;\n",
       "    }\n",
       "</style>\n",
       "<table border=\"1\" class=\"dataframe\">\n",
       "  <thead>\n",
       "    <tr style=\"text-align: right;\">\n",
       "      <th></th>\n",
       "      <th>Sample</th>\n",
       "      <th>Storage</th>\n",
       "      <th>Type</th>\n",
       "    </tr>\n",
       "  </thead>\n",
       "  <tbody>\n",
       "    <tr>\n",
       "      <th>0</th>\n",
       "      <td>AR0154.1</td>\n",
       "      <td>With Lumila</td>\n",
       "      <td>Skeleton Element</td>\n",
       "    </tr>\n",
       "    <tr>\n",
       "      <th>1</th>\n",
       "      <td>AR0168.1</td>\n",
       "      <td>With Lumila</td>\n",
       "      <td>Skeleton Element</td>\n",
       "    </tr>\n",
       "    <tr>\n",
       "      <th>2</th>\n",
       "      <td>AR0174.1</td>\n",
       "      <td>With Lumila</td>\n",
       "      <td>Skeleton Element</td>\n",
       "    </tr>\n",
       "    <tr>\n",
       "      <th>3</th>\n",
       "      <td>AR0176.1</td>\n",
       "      <td>With Lumila</td>\n",
       "      <td>Skeleton Element</td>\n",
       "    </tr>\n",
       "    <tr>\n",
       "      <th>4</th>\n",
       "      <td>AR0244.2</td>\n",
       "      <td>With Lumila</td>\n",
       "      <td>Skeleton Element</td>\n",
       "    </tr>\n",
       "    <tr>\n",
       "      <th>...</th>\n",
       "      <td>...</td>\n",
       "      <td>...</td>\n",
       "      <td>...</td>\n",
       "    </tr>\n",
       "    <tr>\n",
       "      <th>186</th>\n",
       "      <td>AR0687.2</td>\n",
       "      <td>With Lumila</td>\n",
       "      <td>Skeleton Element</td>\n",
       "    </tr>\n",
       "    <tr>\n",
       "      <th>187</th>\n",
       "      <td>AR0692.1</td>\n",
       "      <td>With Lumila</td>\n",
       "      <td>Skeleton Element</td>\n",
       "    </tr>\n",
       "    <tr>\n",
       "      <th>188</th>\n",
       "      <td>AR0694.2</td>\n",
       "      <td>With Lumila</td>\n",
       "      <td>Skeleton Element</td>\n",
       "    </tr>\n",
       "    <tr>\n",
       "      <th>189</th>\n",
       "      <td>AR0695.1</td>\n",
       "      <td>With Lumila</td>\n",
       "      <td>Skeleton Element</td>\n",
       "    </tr>\n",
       "    <tr>\n",
       "      <th>190</th>\n",
       "      <td>AR0696.1</td>\n",
       "      <td>With Lumila</td>\n",
       "      <td>Skeleton Element</td>\n",
       "    </tr>\n",
       "  </tbody>\n",
       "</table>\n",
       "<p>191 rows × 3 columns</p>\n",
       "</div>"
      ],
      "text/plain": [
       "       Sample      Storage              Type\n",
       "0    AR0154.1  With Lumila  Skeleton Element\n",
       "1    AR0168.1  With Lumila  Skeleton Element\n",
       "2    AR0174.1  With Lumila  Skeleton Element\n",
       "3    AR0176.1  With Lumila  Skeleton Element\n",
       "4    AR0244.2  With Lumila  Skeleton Element\n",
       "..        ...          ...               ...\n",
       "186  AR0687.2  With Lumila  Skeleton Element\n",
       "187  AR0692.1  With Lumila  Skeleton Element\n",
       "188  AR0694.2  With Lumila  Skeleton Element\n",
       "189  AR0695.1  With Lumila  Skeleton Element\n",
       "190  AR0696.1  With Lumila  Skeleton Element\n",
       "\n",
       "[191 rows x 3 columns]"
      ]
     },
     "execution_count": 85,
     "metadata": {},
     "output_type": "execute_result"
    }
   ],
   "source": [
    "import pandas as pd\n",
    "out={\"Sample\":[],\"Storage\":[],\"Type\":[]}\n",
    "for idSto in StorageToReach:\n",
    "    r=requests.get(url+\"/storageLayers/\"+format(StorageToReach[idSto][\"id\"])+\"/samples\",headers=headers1)\n",
    "    for sam in r.json().get(\"data\"):\n",
    "        out[\"Sample\"].append(sam[\"name\"])\n",
    "        out[\"Storage\"].append(idSto)\n",
    "        out[\"Type\"].append(sam[\"sampleType\"][\"name\"])\n",
    "\n",
    "out=pd.DataFrame(out)   \n",
    "out"
   ]
  },
  {
   "cell_type": "code",
   "execution_count": 86,
   "id": "cf29ad3a",
   "metadata": {},
   "outputs": [],
   "source": [
    "out.to_csv(filename, sep='\\t', na_rep='NA',mode='a')"
   ]
  },
  {
   "cell_type": "code",
   "execution_count": null,
   "id": "46870e48",
   "metadata": {},
   "outputs": [],
   "source": []
  }
 ],
 "metadata": {
  "kernelspec": {
   "display_name": "Python 3",
   "language": "python",
   "name": "python3"
  },
  "language_info": {
   "codemirror_mode": {
    "name": "ipython",
    "version": 3
   },
   "file_extension": ".py",
   "mimetype": "text/x-python",
   "name": "python",
   "nbconvert_exporter": "python",
   "pygments_lexer": "ipython3",
   "version": "3.9.1"
  }
 },
 "nbformat": 4,
 "nbformat_minor": 5
}
