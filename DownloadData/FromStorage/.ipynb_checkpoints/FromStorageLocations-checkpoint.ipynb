{
 "cells": [
  {
   "cell_type": "markdown",
   "id": "8a98af6c",
   "metadata": {},
   "source": [
    "# A notebook to generate a CSV template with info from samples in location(s)"
   ]
  },
  {
   "cell_type": "markdown",
   "id": "63d93209",
   "metadata": {},
   "source": [
    "Give the output file name (with path)"
   ]
  },
  {
   "cell_type": "code",
   "execution_count": 2,
   "id": "a0ceee32",
   "metadata": {},
   "outputs": [],
   "source": [
    "filename=\"/Users/pierrespc/Desktop/INCPH_PIERRE.tsv\"\n"
   ]
  },
  {
   "cell_type": "markdown",
   "id": "dd03927a",
   "metadata": {},
   "source": [
    "## Preparing the note book"
   ]
  },
  {
   "cell_type": "markdown",
   "id": "c4224ba3",
   "metadata": {},
   "source": [
    "Please enter the one-line file where your token is saved in the following cell"
   ]
  },
  {
   "cell_type": "code",
   "execution_count": 3,
   "id": "ae9b181e",
   "metadata": {},
   "outputs": [],
   "source": [
    "tokenFile=\"/Users/pierrespc/Documents/PostDocPasteur/aDNA/Import_eLAB/API_FUNCTIONALITIES/credentials/tokenELAB\"\n",
    "import os\n",
    "import json\n",
    "import requests\n",
    "import csv\n",
    "import pandas\n",
    "import numpy\n",
    "from apiclient import discovery, errors\n",
    "from httplib2 import Http\n",
    "from oauth2client import client, file, tools\n",
    "import os.path\n",
    "\n",
    "token = format(open(tokenFile,\"r\").readline().strip())\n",
    "url = \"https://elab-dev.pasteur.fr/api/v1/\"\n",
    "headers1 = {'Authorization': token, 'Accept': 'application/json','Content-Type':'application/json'}\n",
    "headers2 = {'Authorization': token, 'Accept': 'application/json'}\n",
    "\n"
   ]
  },
  {
   "cell_type": "code",
   "execution_count": 4,
   "id": "9c61a9fe",
   "metadata": {},
   "outputs": [],
   "source": [
    "storageByID={}\n",
    "r=requests.get(url+\"/storageLayers\",headers=headers1)\n",
    "stoData=r.json().get(\"data\")\n",
    "for sto in stoData:\n",
    "    storageByID[sto[\"storageLayerID\"]]={\"name\":sto[\"name\"],\"parentID\":sto[\"parentStorageLayerID\"]}\n",
    "    #print(sto[\"name\"])\n",
    "def getParentSto(ID,stoDict):\n",
    "    if stoDict[ID][\"parentID\"]==0:\n",
    "        return(stoDict[ID][\"name\"])\n",
    "    else:\n",
    "        return(getParentSto(stoDict[ID][\"parentID\"],stoDict)+\", \"+stoDict[ID][\"name\"])\n",
    "    \n",
    "    \n",
    "storage={}\n",
    "for stoID in storageByID.keys():\n",
    "    name=getParentSto(stoID,storageByID)\n",
    "    storage[name]=stoID\n",
    "    \n",
    "\n"
   ]
  },
  {
   "cell_type": "code",
   "execution_count": 5,
   "id": "1bc2e072",
   "metadata": {
    "scrolled": true
   },
   "outputs": [
    {
     "name": "stdout",
     "output_type": "stream",
     "text": [
      "{'Nico office': 774657, 'In Copenhagen': 774658, 'Tom Gilbert Freezer': 774659, 'Tom Gilbert Freezer, bag A1 + A2': 774671, 'Tom Gilbert Freezer, bag A1 + A2, calculus extraction': 774677, 'Tom Gilbert Freezer, bag A1 + A2, petrous back-up': 774678, 'Tom Gilbert Freezer, bag A1 + A2, petrous extraction': 774679, 'Tom Gilbert Freezer, bag A1 + A2, pulp back-up': 774680, 'Tom Gilbert Freezer, bag A1 + A2, pulp extraction': 774681, 'Tom Gilbert Freezer, bag A1 + A2, root back-up': 774682, 'Tom Gilbert Freezer, bag A1 + A2, root extraction': 774683, 'Tom Gilbert Freezer, bag A1 + A2, C group sensitive, blue box, back-up': 774684, 'Tom Gilbert Freezer, bag Mariano Del Papa calculus': 775907, 'Tom Gilbert Freezer, bag Mariano Del Papa calculus, Mariano Del Papa calculus extraction': 775908, 'Tom Gilbert Freezer, bag A1 + A2, already processed': 775909, 'Freezer n9': 774661, 'Freezer n9, Miren Drawer 2': 774674, 'Freezer n9, Miren Drawer 2, Blue Rack 1': 774675, 'Freezer 4': 774836, 'Freezer 4, drawer 1': 774837, 'Freezer 4, drawer 1, samplebox 1': 774838, 'Freezer 4, drawer 5': 775844, 'Freezer 4, drawer 5, extract box 1': 775845, 'Freezer 4, drawer 5, UDG-SCR libraries no... 2': 775860, 'Unknown': 774839, 'Individual': 774998, 'Site': 774999, 'Sequencing': 775861, 'Hannes Freezer': 775975, 'Hannes Freezer, bag A1 + A2': 775976, 'Hannes Freezer, bag A1 + A2, calculus extraction': 775977, 'Hannes Freezer, bag A1 + A2, petrous back-up': 775978, 'Hannes Freezer, bag A1 + A2, petrous extraction': 775979, 'Hannes Freezer, bag A1 + A2, pulp back-up': 775980, 'Hannes Freezer, bag A1 + A2, pulp extraction': 775981, 'Hannes Freezer, bag A1 + A2, root back-up': 775982, 'Hannes Freezer, bag A1 + A2, root extraction': 775983, 'Hannes Freezer, bag A1 + A2, C group sensitive, blue box, back-up': 775984, 'Hannes Freezer, bag A1 + A2, already processed': 775985, 'Hannes Freezer, bag Mariano Del Papa calculus': 775986, 'Hannes Freezer, bag Mariano Del Papa calculus, Mariano Del Papa calculus extraction': 775987, 'Hannes Freezer, bag B1 + B2': 775988, 'Hannes Freezer, bag B1 + B2, pulp back-up': 775989, 'Hannes Freezer, bag B1 + B2, pulp extraction': 775990, 'Hannes Freezer, bag B1 + B2, calculus extraction': 775992, 'Hannes Freezer, bag B1 + B2, petrous extraction': 775993, 'Hannes Freezer, bag B1 + B2, petrous back-up': 775994, 'Hannes Freezer, bag B1 + B2, root extraction': 775996, 'Hannes Freezer, bag B1 + B2, root back-up': 775997, 'Hannes Freezer, bag B1 + B2, C group sensitive, blue box, back-up': 775998, 'Hannes Freezer, bag B1 + B2, already processed': 776000, 'Hannes Freezer, bag Mix batch': 776116, 'Hannes Freezer, bag Mix batch, mix batch del papa guraeib calculus extraction': 776117, 'Hannes Freezer, bag Mix batch, mix batch del papa guraeib root extraction': 776118, 'Hannes Freezer, bag Mix batch, mix batch monica beron calculus extraction': 776119, 'Hannes Freezer, bag Mix batch, mix batch monica beron pulp extraction': 776120, 'Hannes Freezer, bag Mix batch, mix batch monica beron root extraction': 776121, 'Hannes Freezer, bag Mix batch, mix batch ramiro barberena calculus extraction': 776122, 'Hannes Freezer, bag Mix batch, mix batch ramiro barberena pulp back-up extraction': 776123, 'Hannes Freezer, bag Mix batch, mix batch ramiro barberena pulp extraction': 776124, 'Hannes Freezer, bag Mix batch, mix batch ramiro barberena root extraction': 776125, 'Hannes Freezer, bag Mix batch, mix batch neme san rafael root extraction': 776177, 'Hannes Freezer, bag Mix batch, mix batch neme san rafael pulp extraction': 776178, 'Hannes Freezer, bag Mix batch, mix batch neme san rafael calculus extraction': 776179, 'Hannes Freezer, bag A1 + A2, A1 re-sampled root apex extraction': 776215, 'Hannes Freezer, bag Mix batch, mix batch Peralta Malargue pulp extraction': 776216, 'Hannes Freezer, bag Mix batch, mix batch Peralta Malargue root extraction': 776217, 'Hannes Freezer, bag Mix batch, mix batch Peralta San Juan calculus extraction': 776218, 'Hannes Freezer, bag Mix batch, mix batch Peralta San Juan root extraction': 776219, 'Hannes Freezer, bag Mix batch, mix batch Peralta San Juan pulp extraction': 776220, 'Hannes Freezer, bag Mix batch, mix batch Potrero Las Colonias Ramiro Barberena dental calculus extraction': 776243, 'Hannes Freezer, bag Mix batch, mix batch Potrero Las Colonias Ramiro Barberena root extraction': 776244, 'Hannes Freezer, bag Mix batch, mix batch Potrero Las Colonias Ramiro Barberena pulp extraction': 776245, 'Hannes Freezer, bag Mix batch, mix batch JP-Neme root extraction': 776246, 'Hannes Freezer, bag Mix batch, mix batch JP-Neme dental calculus extraction': 776247, 'Hannes Freezer, bag Mix batch, mix batch JP-Neme pulp extraction': 776248, 'Hannes Freezer, bag Mix batch, Mariano del Papa dental calculus extraction': 776279, 'In Tartu': 776098, 'With Lumila': 776238}\n"
     ]
    }
   ],
   "source": [
    "# Get storage\n",
    "print(storage)"
   ]
  },
  {
   "cell_type": "code",
   "execution_count": 5,
   "id": "83f473c6",
   "metadata": {
    "scrolled": false
   },
   "outputs": [
    {
     "name": "stdout",
     "output_type": "stream",
     "text": [
      "get the storage where to look for samples:\n",
      "0: Nico office\n",
      "1: In Copenhagen\n",
      "2: Tom Gilbert Freezer\n",
      "3: Freezer n9\n",
      "4: Freezer 4\n",
      "5: Unknown\n",
      "6: Individual\n",
      "7: Site\n",
      "8: Sequencing\n",
      "9: Hannes Freezer\n",
      "10: In Tartu\n",
      "11: With Lumila\n",
      "['Nico office', 'In Copenhagen', 'Tom Gilbert Freezer', 'Freezer n9', 'Freezer 4', 'Unknown', 'Individual', 'Site', 'Sequencing', 'Hannes Freezer', 'In Tartu', 'With Lumila']\n",
      "what are your choice? (the number separated by <space>)1\n",
      "now we will choice the location layers within the storage\n",
      "{'In Copenhagen': {'id': 774658}}\n"
     ]
    }
   ],
   "source": [
    "\n",
    "iter=-1\n",
    "prev=\"bliblablou\"\n",
    "\n",
    "print(\"get the storage where to look for samples:\")\n",
    "listID=[]\n",
    "for sto in storageByID:\n",
    "    if storageByID[sto][\"parentID\"] == 0:\n",
    "        iter=iter+1\n",
    "        listID.append(storageByID[sto][\"name\"])        \n",
    "        print(format(iter)+\": \"+storageByID[sto][\"name\"])\n",
    "print(listID)\n",
    "StorageToReach={}\n",
    "listChoice=input(\"what are your choice? (the number separated by <space>)\").split()\n",
    "print(\"now we will choice the location layers within the storage\")\n",
    "for i in listChoice:\n",
    "    idSto=listID[int(i)]\n",
    "    ###we will go from the lower layers to the upper...\n",
    "    upperLevel=True\n",
    "    for sto in storage:\n",
    "        stoSplit=sto.split(\", \")\n",
    "        if stoSplit[0] == idSto and len(stoSplit)>1:\n",
    "            prompt=\"?\"\n",
    "            while prompt not in [\"y\",\"n\"]:\n",
    "                prompt=input(\"select layer \"+ sto+\" ?( y/n)\")\n",
    "            if prompt == \"y\":\n",
    "                upperLevel=False\n",
    "                StorageToReach[sto]={\"id\":storage[sto]}\n",
    "    if upperLevel:\n",
    "        StorageToReach[idSto]={\"id\":storage[idSto]}\n",
    "        \n",
    "            \n",
    "print(StorageToReach)\n",
    "            \n",
    "        \n",
    "\n",
    "\n",
    "\n"
   ]
  },
  {
   "cell_type": "code",
   "execution_count": 10,
   "id": "e0856747",
   "metadata": {
    "scrolled": false
   },
   "outputs": [
    {
     "data": {
      "text/html": [
       "<div>\n",
       "<style scoped>\n",
       "    .dataframe tbody tr th:only-of-type {\n",
       "        vertical-align: middle;\n",
       "    }\n",
       "\n",
       "    .dataframe tbody tr th {\n",
       "        vertical-align: top;\n",
       "    }\n",
       "\n",
       "    .dataframe thead th {\n",
       "        text-align: right;\n",
       "    }\n",
       "</style>\n",
       "<table border=\"1\" class=\"dataframe\">\n",
       "  <thead>\n",
       "    <tr style=\"text-align: right;\">\n",
       "      <th></th>\n",
       "      <th>Sample</th>\n",
       "      <th>Storage</th>\n",
       "      <th>Type</th>\n",
       "    </tr>\n",
       "  </thead>\n",
       "  <tbody>\n",
       "    <tr>\n",
       "      <th>0</th>\n",
       "      <td>AR0001.1</td>\n",
       "      <td>In Copenhagen</td>\n",
       "      <td>Skeleton Element</td>\n",
       "    </tr>\n",
       "    <tr>\n",
       "      <th>1</th>\n",
       "      <td>AR0003.1</td>\n",
       "      <td>In Copenhagen</td>\n",
       "      <td>Skeleton Element</td>\n",
       "    </tr>\n",
       "    <tr>\n",
       "      <th>2</th>\n",
       "      <td>AR0005.1</td>\n",
       "      <td>In Copenhagen</td>\n",
       "      <td>Skeleton Element</td>\n",
       "    </tr>\n",
       "    <tr>\n",
       "      <th>3</th>\n",
       "      <td>AR0006.1</td>\n",
       "      <td>In Copenhagen</td>\n",
       "      <td>Skeleton Element</td>\n",
       "    </tr>\n",
       "    <tr>\n",
       "      <th>4</th>\n",
       "      <td>AR0007.1</td>\n",
       "      <td>In Copenhagen</td>\n",
       "      <td>Skeleton Element</td>\n",
       "    </tr>\n",
       "    <tr>\n",
       "      <th>...</th>\n",
       "      <td>...</td>\n",
       "      <td>...</td>\n",
       "      <td>...</td>\n",
       "    </tr>\n",
       "    <tr>\n",
       "      <th>336</th>\n",
       "      <td>AR0347.1</td>\n",
       "      <td>In Copenhagen</td>\n",
       "      <td>Skeleton Element</td>\n",
       "    </tr>\n",
       "    <tr>\n",
       "      <th>337</th>\n",
       "      <td>AR0348.1</td>\n",
       "      <td>In Copenhagen</td>\n",
       "      <td>Skeleton Element</td>\n",
       "    </tr>\n",
       "    <tr>\n",
       "      <th>338</th>\n",
       "      <td>AR0349.1</td>\n",
       "      <td>In Copenhagen</td>\n",
       "      <td>Skeleton Element</td>\n",
       "    </tr>\n",
       "    <tr>\n",
       "      <th>339</th>\n",
       "      <td>AR0349.2</td>\n",
       "      <td>In Copenhagen</td>\n",
       "      <td>Skeleton Element</td>\n",
       "    </tr>\n",
       "    <tr>\n",
       "      <th>340</th>\n",
       "      <td>AR0350.1</td>\n",
       "      <td>In Copenhagen</td>\n",
       "      <td>Skeleton Element</td>\n",
       "    </tr>\n",
       "  </tbody>\n",
       "</table>\n",
       "<p>341 rows × 3 columns</p>\n",
       "</div>"
      ],
      "text/plain": [
       "       Sample        Storage              Type\n",
       "0    AR0001.1  In Copenhagen  Skeleton Element\n",
       "1    AR0003.1  In Copenhagen  Skeleton Element\n",
       "2    AR0005.1  In Copenhagen  Skeleton Element\n",
       "3    AR0006.1  In Copenhagen  Skeleton Element\n",
       "4    AR0007.1  In Copenhagen  Skeleton Element\n",
       "..        ...            ...               ...\n",
       "336  AR0347.1  In Copenhagen  Skeleton Element\n",
       "337  AR0348.1  In Copenhagen  Skeleton Element\n",
       "338  AR0349.1  In Copenhagen  Skeleton Element\n",
       "339  AR0349.2  In Copenhagen  Skeleton Element\n",
       "340  AR0350.1  In Copenhagen  Skeleton Element\n",
       "\n",
       "[341 rows x 3 columns]"
      ]
     },
     "execution_count": 10,
     "metadata": {},
     "output_type": "execute_result"
    }
   ],
   "source": [
    "import pandas as pd\n",
    "out={\"Sample\":[],\"Storage\":[],\"Type\":[]}\n",
    "for idSto in StorageToReach:\n",
    "    r=requests.get(url+\"/storageLayers/\"+format(StorageToReach[idSto][\"id\"])+\"/samples\",headers=headers1)\n",
    "    for sam in r.json().get(\"data\"):\n",
    "        out[\"Sample\"].append(sam[\"name\"])\n",
    "        out[\"Storage\"].append(idSto)\n",
    "        out[\"Type\"].append(sam[\"sampleType\"][\"name\"])\n",
    "\n",
    "out=pd.DataFrame(out)   \n",
    "out"
   ]
  },
  {
   "cell_type": "code",
   "execution_count": 11,
   "id": "cf29ad3a",
   "metadata": {},
   "outputs": [],
   "source": [
    "out.to_csv(filename, sep='\\t', na_rep='NA',mode='w')"
   ]
  },
  {
   "cell_type": "code",
   "execution_count": 25,
   "id": "46870e48",
   "metadata": {
    "scrolled": false
   },
   "outputs": [
    {
     "name": "stdout",
     "output_type": "stream",
     "text": [
      "{'name': 'Individual', 'parentID': 0}\n"
     ]
    }
   ],
   "source": [
    "r=requests.get(url+\"/samples/9477523\",headers=headers1)\n"
   ]
  },
  {
   "cell_type": "code",
   "execution_count": 28,
   "id": "e54ea706",
   "metadata": {
    "scrolled": true
   },
   "outputs": [
    {
     "data": {
      "text/plain": [
       "774998"
      ]
     },
     "execution_count": 28,
     "metadata": {},
     "output_type": "execute_result"
    }
   ],
   "source": []
  },
  {
   "cell_type": "code",
   "execution_count": null,
   "id": "739704b8",
   "metadata": {},
   "outputs": [],
   "source": []
  }
 ],
 "metadata": {
  "kernelspec": {
   "display_name": "Python 3",
   "language": "python",
   "name": "python3"
  },
  "language_info": {
   "codemirror_mode": {
    "name": "ipython",
    "version": 3
   },
   "file_extension": ".py",
   "mimetype": "text/x-python",
   "name": "python",
   "nbconvert_exporter": "python",
   "pygments_lexer": "ipython3",
   "version": "3.9.1"
  }
 },
 "nbformat": 4,
 "nbformat_minor": 5
}
